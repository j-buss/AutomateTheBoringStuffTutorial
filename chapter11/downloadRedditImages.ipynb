{
  "nbformat": 4,
  "nbformat_minor": 0,
  "metadata": {
    "colab": {
      "name": "downloadRedditImages.ipynb",
      "provenance": [],
      "include_colab_link": true
    },
    "kernelspec": {
      "name": "python3",
      "display_name": "Python 3"
    }
  },
  "cells": [
    {
      "cell_type": "markdown",
      "metadata": {
        "id": "view-in-github",
        "colab_type": "text"
      },
      "source": [
        "<a href=\"https://colab.research.google.com/github/j-buss/AutomateTheBoringStuffTutorial/blob/dev-chapter09/chapter11/downloadRedditImages.ipynb\" target=\"_parent\"><img src=\"https://colab.research.google.com/assets/colab-badge.svg\" alt=\"Open In Colab\"/></a>"
      ]
    },
    {
      "cell_type": "code",
      "metadata": {
        "id": "FdDgR_33yn0t",
        "colab_type": "code",
        "colab": {}
      },
      "source": [
        "import logging\n",
        "from bs4 import BeautifulSoup\n",
        "import requests\n",
        "import sys\n",
        "import os\n",
        "import shutil"
      ],
      "execution_count": 0,
      "outputs": []
    },
    {
      "cell_type": "code",
      "metadata": {
        "id": "ZtxOHs5mzFuE",
        "colab_type": "code",
        "colab": {}
      },
      "source": [
        "logging.basicConfig(level=logging.DEBUG, format=' %(asctime)s - %(levelname)s - %(message)s')\n",
        "#logging.disable(logging.CRITICAL)"
      ],
      "execution_count": 0,
      "outputs": []
    },
    {
      "cell_type": "code",
      "metadata": {
        "id": "lK9MuieizUFo",
        "colab_type": "code",
        "colab": {}
      },
      "source": [
        "def prepDirectory(directoryPath):\n",
        "    directoryAbsPath = os.path.abspath(directoryPath)\n",
        "    try:\n",
        "        shutil.rmtree(directoryAbsPath)\n",
        "    except:\n",
        "        pass\n",
        "    os.mkdir(directoryAbsPath)"
      ],
      "execution_count": 0,
      "outputs": []
    },
    {
      "cell_type": "code",
      "metadata": {
        "id": "QfFBZ_JqzgWG",
        "colab_type": "code",
        "colab": {}
      },
      "source": [
        "def returnImageURL(soupObject):\n",
        "    imageURL = soupObject.find_all(\"img\", {\"alt\":\"Post image\"})['src']\n",
        "    logging.debug(\"imageURL: \" + imageURL)\n",
        "    return imageURL"
      ],
      "execution_count": 0,
      "outputs": []
    },
    {
      "cell_type": "code",
      "metadata": {
        "id": "iD6UAslvz4Qq",
        "colab_type": "code",
        "colab": {}
      },
      "source": [
        "def returnSoup(pageURL):\n",
        "    req = requests.get(pageURL)\n",
        "    req.raise_for_status()\n",
        "    soup = BeautifulSoup(req.text, \"html.parser\")\n",
        "    return soup"
      ],
      "execution_count": 0,
      "outputs": []
    },
    {
      "cell_type": "code",
      "metadata": {
        "id": "JsypKeSSz_7A",
        "colab_type": "code",
        "colab": {}
      },
      "source": [
        "def downloadImage(folder, imageURL):\n",
        "    \"\"\"Download and image given the specific URL\"\"\"\n",
        "    req = requests.get(imageURL)\n",
        "    req.raise_for_status()\n",
        "    fileName = os.path.split(imageURL)[1]\n",
        "    directoryAbsPath = os.path.abspath(folder)\n",
        "    fileName = os.path.join(directoryAbsPath, fileName)\n",
        "    logging.debug(\"Full path: \" + imageURL)\n",
        "    logging.debug(\"Filename: \" + fileName)\n",
        "    with open(fileName, 'wb') as f:\n",
        "        for chunk in req.iter_content(100000):\n",
        "            f.write(chunk)\n",
        "            logging.debug(\"Downloaded image: \" + fileName)"
      ],
      "execution_count": 0,
      "outputs": []
    },
    {
      "cell_type": "code",
      "metadata": {
        "id": "T0lsy1_H0Dfk",
        "colab_type": "code",
        "colab": {}
      },
      "source": [
        "## Treat this as MAIN()\n",
        "\n",
        "baseURL = \"http://www.reddit.com/r/poodles/\"\n",
        "# For whatever reason reddit doesn't seem to like the Headers update\n",
        "# headers = requests.utils.default_headers()\n",
        "# headers.update({ 'User-Agent': 'Mozilla/5.0 (X11; Ubuntu; Linux x86_64; rv:52.0) Gecko/20100101 Firefox/52.0'})\n",
        "\n",
        "imageDirectory = 'TESTDIR_forRedditImages'\n",
        "prepDirectory(imageDirectory)"
      ],
      "execution_count": 0,
      "outputs": []
    },
    {
      "cell_type": "code",
      "metadata": {
        "id": "Ao5xgH4N0pPj",
        "colab_type": "code",
        "colab": {
          "base_uri": "https://localhost:8080/",
          "height": 111
        },
        "outputId": "9dec334d-973e-4fde-f2c5-2707fb84adbf"
      },
      "source": [
        "tempSoup = returnSoup(baseURL)"
      ],
      "execution_count": 35,
      "outputs": [
        {
          "output_type": "stream",
          "text": [
            " 2019-10-15 14:46:33,323 - DEBUG - Starting new HTTP connection (1): www.reddit.com:80\n",
            " 2019-10-15 14:46:33,395 - DEBUG - http://www.reddit.com:80 \"GET /r/poodles/ HTTP/1.1\" 301 0\n",
            " 2019-10-15 14:46:33,400 - DEBUG - Starting new HTTPS connection (1): www.reddit.com:443\n",
            " 2019-10-15 14:46:34,481 - DEBUG - https://www.reddit.com:443 \"GET /r/poodles/ HTTP/1.1\" 200 None\n"
          ],
          "name": "stderr"
        }
      ]
    },
    {
      "cell_type": "code",
      "metadata": {
        "id": "69CXfv7z5Al4",
        "colab_type": "code",
        "colab": {}
      },
      "source": [
        "elems = tempSoup.find_all(\"img\", {\"alt\":\"Post image\"})"
      ],
      "execution_count": 0,
      "outputs": []
    },
    {
      "cell_type": "code",
      "metadata": {
        "id": "o-f3aecf7-eV",
        "colab_type": "code",
        "colab": {}
      },
      "source": [
        "from urllib.parse import urlparse\n"
      ],
      "execution_count": 0,
      "outputs": []
    },
    {
      "cell_type": "code",
      "metadata": {
        "id": "jPUCSC8E82CS",
        "colab_type": "code",
        "colab": {
          "base_uri": "https://localhost:8080/",
          "height": 55
        },
        "outputId": "48b7c6d8-872f-4fee-d3da-b527ecf9d921"
      },
      "source": [
        "imageURL"
      ],
      "execution_count": 49,
      "outputs": [
        {
          "output_type": "execute_result",
          "data": {
            "text/plain": [
              "'https://preview.redd.it/24r6n9iguls31.jpg?width=640&crop=smart&auto=webp&s=c86769b62c3653557e4d920d64e00e595b9f4d28'"
            ]
          },
          "metadata": {
            "tags": []
          },
          "execution_count": 49
        }
      ]
    },
    {
      "cell_type": "code",
      "metadata": {
        "id": "YtVnll3q80s4",
        "colab_type": "code",
        "colab": {
          "base_uri": "https://localhost:8080/",
          "height": 54
        },
        "outputId": "e1f3f09e-dbe8-44dc-ad2d-0c54cb9c3d98"
      },
      "source": [
        "a = urlparse(imageURL)\n",
        "logging.debug(a.path) \n",
        "logging.debug(os.path.basename(a.path))\n"
      ],
      "execution_count": 50,
      "outputs": [
        {
          "output_type": "stream",
          "text": [
            " 2019-10-15 15:05:14,490 - DEBUG - /24r6n9iguls31.jpg\n",
            " 2019-10-15 15:05:14,492 - DEBUG - 24r6n9iguls31.jpg\n"
          ],
          "name": "stderr"
        }
      ]
    },
    {
      "cell_type": "code",
      "metadata": {
        "id": "ObMmFhRO5S4B",
        "colab_type": "code",
        "colab": {
          "base_uri": "https://localhost:8080/",
          "height": 333
        },
        "outputId": "596d5ae1-0d61-4307-fba7-1ce24d4d2061"
      },
      "source": [
        "for i in elems:\n",
        "  rawImageURL = i['src']\n",
        "  logging.debug(rawImageURL)\n",
        "  try:\n",
        "    #imageURL = returnImageURL(tempSoup)\n",
        "    downloadImage(imageDirectory, rawImageURL)\n",
        "    logging.debug(\"In try block\")\n",
        "  except:\n",
        "    logging.warning(\"Couldn't get Image from: \" + imageURL)\n",
        "    pass"
      ],
      "execution_count": 47,
      "outputs": [
        {
          "output_type": "stream",
          "text": [
            " 2019-10-15 15:04:27,601 - DEBUG - https://i.redd.it/jpkmd1gafos31.jpg\n",
            " 2019-10-15 15:04:27,605 - WARNING - Couldn't get Image from: https://preview.redd.it/24r6n9iguls31.jpg?width=640&crop=smart&auto=webp&s=c86769b62c3653557e4d920d64e00e595b9f4d28\n",
            " 2019-10-15 15:04:27,607 - DEBUG - https://preview.redd.it/qi96hp4ntjs31.jpg?width=640&crop=smart&auto=webp&s=5ea310149f69425f5af1ac96a1867ad8cd08178e\n",
            " 2019-10-15 15:04:27,609 - WARNING - Couldn't get Image from: https://preview.redd.it/24r6n9iguls31.jpg?width=640&crop=smart&auto=webp&s=c86769b62c3653557e4d920d64e00e595b9f4d28\n",
            " 2019-10-15 15:04:27,615 - DEBUG - https://preview.redd.it/l3iod79kxks31.jpg?width=640&crop=smart&auto=webp&s=56610355089926d84227567da4db964e01c9f0aa\n",
            " 2019-10-15 15:04:27,616 - WARNING - Couldn't get Image from: https://preview.redd.it/24r6n9iguls31.jpg?width=640&crop=smart&auto=webp&s=c86769b62c3653557e4d920d64e00e595b9f4d28\n",
            " 2019-10-15 15:04:27,618 - DEBUG - https://preview.redd.it/munz96dgpps31.jpg?width=640&crop=smart&auto=webp&s=274cccdc90614ecd6c0ecd102916882d445f1058\n",
            " 2019-10-15 15:04:27,619 - WARNING - Couldn't get Image from: https://preview.redd.it/24r6n9iguls31.jpg?width=640&crop=smart&auto=webp&s=c86769b62c3653557e4d920d64e00e595b9f4d28\n",
            " 2019-10-15 15:04:27,621 - DEBUG - https://preview.redd.it/d0dbpepfwls31.jpg?width=640&crop=smart&auto=webp&s=440948d2070d75aeca645438c9eb47f29b5de072\n",
            " 2019-10-15 15:04:27,622 - WARNING - Couldn't get Image from: https://preview.redd.it/24r6n9iguls31.jpg?width=640&crop=smart&auto=webp&s=c86769b62c3653557e4d920d64e00e595b9f4d28\n",
            " 2019-10-15 15:04:27,624 - DEBUG - https://preview.redd.it/mg201tqxxhs31.jpg?width=640&crop=smart&auto=webp&s=2d8de8bac0ad6cdc5587c757b3634ee588a5f087\n",
            " 2019-10-15 15:04:27,625 - WARNING - Couldn't get Image from: https://preview.redd.it/24r6n9iguls31.jpg?width=640&crop=smart&auto=webp&s=c86769b62c3653557e4d920d64e00e595b9f4d28\n",
            " 2019-10-15 15:04:27,627 - DEBUG - https://preview.redd.it/xkzkw0j9nps31.jpg?width=640&crop=smart&auto=webp&s=efb598164a546d4a6a3f080dec9f992f5bec398c\n",
            " 2019-10-15 15:04:27,628 - WARNING - Couldn't get Image from: https://preview.redd.it/24r6n9iguls31.jpg?width=640&crop=smart&auto=webp&s=c86769b62c3653557e4d920d64e00e595b9f4d28\n",
            " 2019-10-15 15:04:27,630 - DEBUG - https://preview.redd.it/24r6n9iguls31.jpg?width=640&crop=smart&auto=webp&s=c86769b62c3653557e4d920d64e00e595b9f4d28\n",
            " 2019-10-15 15:04:27,631 - WARNING - Couldn't get Image from: https://preview.redd.it/24r6n9iguls31.jpg?width=640&crop=smart&auto=webp&s=c86769b62c3653557e4d920d64e00e595b9f4d28\n"
          ],
          "name": "stderr"
        }
      ]
    },
    {
      "cell_type": "code",
      "metadata": {
        "id": "L5nzbvLS0ZSZ",
        "colab_type": "code",
        "colab": {
          "base_uri": "https://localhost:8080/",
          "height": 148
        },
        "outputId": "59d1a83c-20e1-4919-f41e-475dff738c1c"
      },
      "source": [
        "\n",
        "try:\n",
        "  imageURL = returnImageURL(tempSoup)\n",
        "  downloadImage(imageDirectory, imageURL)\n",
        "except:\n",
        "  logging.warning(\"Couldn't get Image from: \" + imageURL)\n",
        "  pass\n",
        "#fullPrevURL, prevURL = returnPrevURL(tempSoup, xkcdBaseURL)"
      ],
      "execution_count": 28,
      "outputs": [
        {
          "output_type": "stream",
          "text": [
            " 2019-10-15 14:42:04,951 - DEBUG - imageURL: https://i.redd.it/jpkmd1gafos31.jpg\n",
            " 2019-10-15 14:42:04,958 - DEBUG - Starting new HTTPS connection (1): i.redd.it:443\n",
            " 2019-10-15 14:42:05,291 - DEBUG - https://i.redd.it:443 \"GET /jpkmd1gafos31.jpg HTTP/1.1\" 200 71439\n",
            " 2019-10-15 14:42:05,319 - DEBUG - Full path: https://i.redd.it/jpkmd1gafos31.jpg\n",
            " 2019-10-15 14:42:05,321 - DEBUG - Filename: /content/TESTDIR_forRedditImages/jpkmd1gafos31.jpg\n",
            " 2019-10-15 14:42:05,327 - DEBUG - Downloaded image: /content/TESTDIR_forRedditImages/jpkmd1gafos31.jpg\n"
          ],
          "name": "stderr"
        }
      ]
    },
    {
      "cell_type": "code",
      "metadata": {
        "id": "FvCgB7n02dt0",
        "colab_type": "code",
        "colab": {}
      },
      "source": [
        "downloadImage(imageDirectory, )"
      ],
      "execution_count": 0,
      "outputs": []
    }
  ]
}