{
  "nbformat": 4,
  "nbformat_minor": 0,
  "metadata": {
    "colab": {
      "name": "downloadRedditImages.ipynb",
      "provenance": [],
      "include_colab_link": true
    },
    "kernelspec": {
      "name": "python3",
      "display_name": "Python 3"
    }
  },
  "cells": [
    {
      "cell_type": "markdown",
      "metadata": {
        "id": "view-in-github",
        "colab_type": "text"
      },
      "source": [
        "<a href=\"https://colab.research.google.com/github/j-buss/AutomateTheBoringStuffTutorial/blob/dev-chapter09/chapter11/downloadRedditImages.ipynb\" target=\"_parent\"><img src=\"https://colab.research.google.com/assets/colab-badge.svg\" alt=\"Open In Colab\"/></a>"
      ]
    },
    {
      "cell_type": "markdown",
      "metadata": {
        "id": "-pwrbKwqInhV",
        "colab_type": "text"
      },
      "source": [
        "This notebook is to accompany the Automate The Boring Stuff chapter 11.\n",
        "\n",
        "This code is my build of the \"Practice Project\" Image Site Downloader. Specifically it downloads the first 8 images from a reddit subreddit."
      ]
    },
    {
      "cell_type": "code",
      "metadata": {
        "id": "FdDgR_33yn0t",
        "colab_type": "code",
        "colab": {}
      },
      "source": [
        "import logging\n",
        "from bs4 import BeautifulSoup\n",
        "import requests\n",
        "import sys\n",
        "import os\n",
        "import shutil\n",
        "from urllib.parse import urlparse"
      ],
      "execution_count": 0,
      "outputs": []
    },
    {
      "cell_type": "code",
      "metadata": {
        "id": "ZtxOHs5mzFuE",
        "colab_type": "code",
        "colab": {}
      },
      "source": [
        "logging.basicConfig(level=logging.DEBUG, format=' %(asctime)s - %(levelname)s - %(message)s')\n",
        "#logging.disable(logging.CRITICAL)"
      ],
      "execution_count": 0,
      "outputs": []
    },
    {
      "cell_type": "code",
      "metadata": {
        "id": "lK9MuieizUFo",
        "colab_type": "code",
        "colab": {}
      },
      "source": [
        "def prepDirectory(directoryPath):\n",
        "    directoryAbsPath = os.path.abspath(directoryPath)\n",
        "    try:\n",
        "        shutil.rmtree(directoryAbsPath)\n",
        "    except:\n",
        "        pass\n",
        "    os.mkdir(directoryAbsPath)"
      ],
      "execution_count": 0,
      "outputs": []
    },
    {
      "cell_type": "code",
      "metadata": {
        "id": "iD6UAslvz4Qq",
        "colab_type": "code",
        "colab": {}
      },
      "source": [
        "def returnSoup(pageURL):\n",
        "    req = requests.get(pageURL)\n",
        "    req.raise_for_status()\n",
        "    soup = BeautifulSoup(req.text, \"html.parser\")\n",
        "    return soup"
      ],
      "execution_count": 0,
      "outputs": []
    },
    {
      "cell_type": "code",
      "metadata": {
        "id": "JsypKeSSz_7A",
        "colab_type": "code",
        "colab": {}
      },
      "source": [
        "def downloadImage(folder, imageURL):\n",
        "    # Clean up the imageURL\n",
        "    a = urlparse(imageURL)\n",
        "    parsedURL = a.path \n",
        "    fileName = os.path.basename(a.path)\n",
        "    downloadURL = \"https://i.redd.it/\" + fileName\n",
        "    logging.debug(\"----------------------\")\n",
        "    logging.debug(\"Raw URL: \" + imageURL)\n",
        "    logging.debug(\"URL Parsed: \" + parsedURL)\n",
        "    logging.debug(\"Filename: \" + fileName)\n",
        "    logging.debug(\"DownloadURL: \" + downloadURL)\n",
        "    \n",
        "    # Download the content\n",
        "    req = requests.get(downloadURL)\n",
        "    req.raise_for_status()\n",
        "    directoryAbsPath = os.path.abspath(folder)\n",
        "    fileName = os.path.join(directoryAbsPath, fileName)\n",
        "    with open(fileName, 'wb') as f:\n",
        "        for chunk in req.iter_content(100000):\n",
        "            f.write(chunk)\n",
        "    logging.debug(\"Downloaded image: \" + fileName)\n",
        "    logging.debug(\"\\n\")"
      ],
      "execution_count": 0,
      "outputs": []
    },
    {
      "cell_type": "code",
      "metadata": {
        "id": "T0lsy1_H0Dfk",
        "colab_type": "code",
        "colab": {
          "base_uri": "https://localhost:8080/",
          "height": 111
        },
        "outputId": "6f428708-0228-4380-99fa-b0bde1dde283"
      },
      "source": [
        "## Treat this as MAIN()\n",
        "\n",
        "baseURL = \"http://www.reddit.com/r/memes/\"\n",
        "\n",
        "imageDirectory = 'TESTDIR_forRedditImages'\n",
        "prepDirectory(imageDirectory)\n",
        "tempSoup = returnSoup(baseURL)"
      ],
      "execution_count": 19,
      "outputs": [
        {
          "output_type": "stream",
          "text": [
            " 2019-10-15 15:54:20,813 - DEBUG - Starting new HTTP connection (1): www.reddit.com:80\n",
            " 2019-10-15 15:54:20,845 - DEBUG - http://www.reddit.com:80 \"GET /r/memes/ HTTP/1.1\" 301 0\n",
            " 2019-10-15 15:54:20,850 - DEBUG - Starting new HTTPS connection (1): www.reddit.com:443\n",
            " 2019-10-15 15:54:22,195 - DEBUG - https://www.reddit.com:443 \"GET /r/memes/ HTTP/1.1\" 200 None\n"
          ],
          "name": "stderr"
        }
      ]
    },
    {
      "cell_type": "code",
      "metadata": {
        "id": "ObMmFhRO5S4B",
        "colab_type": "code",
        "colab": {
          "base_uri": "https://localhost:8080/",
          "height": 1000
        },
        "outputId": "e7080955-7090-4622-a44f-92169f735e0a"
      },
      "source": [
        "elems = tempSoup.find_all(\"img\", {\"alt\":\"Post image\"})\n",
        "\n",
        "for i in elems:\n",
        "  rawImageURL = i['src']\n",
        "  logging.debug(rawImageURL)\n",
        "  try:\n",
        "    downloadImage(imageDirectory, rawImageURL)\n",
        "  except:\n",
        "    logging.warning(\"Couldn't get Image from: \" + imageURL)\n",
        "    pass"
      ],
      "execution_count": 20,
      "outputs": [
        {
          "output_type": "stream",
          "text": [
            " 2019-10-15 15:54:27,169 - DEBUG - https://i.redd.it/0n96fd43zos31.jpg\n",
            " 2019-10-15 15:54:27,175 - DEBUG - ----------------------\n",
            " 2019-10-15 15:54:27,178 - DEBUG - Raw URL: https://i.redd.it/0n96fd43zos31.jpg\n",
            " 2019-10-15 15:54:27,179 - DEBUG - URL Parsed: /0n96fd43zos31.jpg\n",
            " 2019-10-15 15:54:27,181 - DEBUG - Filename: 0n96fd43zos31.jpg\n",
            " 2019-10-15 15:54:27,182 - DEBUG - DownloadURL: https://i.redd.it/0n96fd43zos31.jpg\n",
            " 2019-10-15 15:54:27,186 - DEBUG - Starting new HTTPS connection (1): i.redd.it:443\n",
            " 2019-10-15 15:54:27,284 - DEBUG - https://i.redd.it:443 \"GET /0n96fd43zos31.jpg HTTP/1.1\" 200 50152\n",
            " 2019-10-15 15:54:27,310 - DEBUG - Downloaded image: /content/TESTDIR_forRedditImages/0n96fd43zos31.jpg\n",
            " 2019-10-15 15:54:27,313 - DEBUG - \n",
            "\n",
            " 2019-10-15 15:54:27,314 - DEBUG - https://preview.redd.it/r4f1nz40los31.jpg?width=640&crop=smart&auto=webp&s=cbcdc4c204f846bed27b6a7e716fc84823d700e9\n",
            " 2019-10-15 15:54:27,316 - DEBUG - ----------------------\n",
            " 2019-10-15 15:54:27,317 - DEBUG - Raw URL: https://preview.redd.it/r4f1nz40los31.jpg?width=640&crop=smart&auto=webp&s=cbcdc4c204f846bed27b6a7e716fc84823d700e9\n",
            " 2019-10-15 15:54:27,318 - DEBUG - URL Parsed: /r4f1nz40los31.jpg\n",
            " 2019-10-15 15:54:27,319 - DEBUG - Filename: r4f1nz40los31.jpg\n",
            " 2019-10-15 15:54:27,321 - DEBUG - DownloadURL: https://i.redd.it/r4f1nz40los31.jpg\n",
            " 2019-10-15 15:54:27,324 - DEBUG - Starting new HTTPS connection (1): i.redd.it:443\n",
            " 2019-10-15 15:54:27,389 - DEBUG - https://i.redd.it:443 \"GET /r4f1nz40los31.jpg HTTP/1.1\" 200 229729\n",
            " 2019-10-15 15:54:27,441 - DEBUG - Downloaded image: /content/TESTDIR_forRedditImages/r4f1nz40los31.jpg\n",
            " 2019-10-15 15:54:27,445 - DEBUG - \n",
            "\n",
            " 2019-10-15 15:54:27,446 - DEBUG - https://preview.redd.it/862j9jhvlos31.png?width=640&crop=smart&auto=webp&s=2c9abe5fa9f0db7b7cc64f31ea9e5ea9a9b9656a\n",
            " 2019-10-15 15:54:27,448 - DEBUG - ----------------------\n",
            " 2019-10-15 15:54:27,449 - DEBUG - Raw URL: https://preview.redd.it/862j9jhvlos31.png?width=640&crop=smart&auto=webp&s=2c9abe5fa9f0db7b7cc64f31ea9e5ea9a9b9656a\n",
            " 2019-10-15 15:54:27,451 - DEBUG - URL Parsed: /862j9jhvlos31.png\n",
            " 2019-10-15 15:54:27,452 - DEBUG - Filename: 862j9jhvlos31.png\n",
            " 2019-10-15 15:54:27,454 - DEBUG - DownloadURL: https://i.redd.it/862j9jhvlos31.png\n",
            " 2019-10-15 15:54:27,458 - DEBUG - Starting new HTTPS connection (1): i.redd.it:443\n",
            " 2019-10-15 15:54:27,525 - DEBUG - https://i.redd.it:443 \"GET /862j9jhvlos31.png HTTP/1.1\" 200 726812\n",
            " 2019-10-15 15:54:27,590 - DEBUG - Downloaded image: /content/TESTDIR_forRedditImages/862j9jhvlos31.png\n",
            " 2019-10-15 15:54:27,593 - DEBUG - \n",
            "\n",
            " 2019-10-15 15:54:27,595 - DEBUG - https://preview.redd.it/ufvda129tos31.jpg?width=640&crop=smart&auto=webp&s=837d55241079798d22790f4e64ad780d02e2de7e\n",
            " 2019-10-15 15:54:27,597 - DEBUG - ----------------------\n",
            " 2019-10-15 15:54:27,599 - DEBUG - Raw URL: https://preview.redd.it/ufvda129tos31.jpg?width=640&crop=smart&auto=webp&s=837d55241079798d22790f4e64ad780d02e2de7e\n",
            " 2019-10-15 15:54:27,600 - DEBUG - URL Parsed: /ufvda129tos31.jpg\n",
            " 2019-10-15 15:54:27,602 - DEBUG - Filename: ufvda129tos31.jpg\n",
            " 2019-10-15 15:54:27,603 - DEBUG - DownloadURL: https://i.redd.it/ufvda129tos31.jpg\n",
            " 2019-10-15 15:54:27,608 - DEBUG - Starting new HTTPS connection (1): i.redd.it:443\n",
            " 2019-10-15 15:54:27,675 - DEBUG - https://i.redd.it:443 \"GET /ufvda129tos31.jpg HTTP/1.1\" 200 130670\n",
            " 2019-10-15 15:54:27,714 - DEBUG - Downloaded image: /content/TESTDIR_forRedditImages/ufvda129tos31.jpg\n",
            " 2019-10-15 15:54:27,717 - DEBUG - \n",
            "\n",
            " 2019-10-15 15:54:27,719 - DEBUG - https://preview.redd.it/nlvzxz53uos31.jpg?width=640&crop=smart&auto=webp&s=73c6f955e7e64f6a8c4ad765ddea851232715be5\n",
            " 2019-10-15 15:54:27,721 - DEBUG - ----------------------\n",
            " 2019-10-15 15:54:27,722 - DEBUG - Raw URL: https://preview.redd.it/nlvzxz53uos31.jpg?width=640&crop=smart&auto=webp&s=73c6f955e7e64f6a8c4ad765ddea851232715be5\n",
            " 2019-10-15 15:54:27,724 - DEBUG - URL Parsed: /nlvzxz53uos31.jpg\n",
            " 2019-10-15 15:54:27,725 - DEBUG - Filename: nlvzxz53uos31.jpg\n",
            " 2019-10-15 15:54:27,726 - DEBUG - DownloadURL: https://i.redd.it/nlvzxz53uos31.jpg\n",
            " 2019-10-15 15:54:27,730 - DEBUG - Starting new HTTPS connection (1): i.redd.it:443\n",
            " 2019-10-15 15:54:27,797 - DEBUG - https://i.redd.it:443 \"GET /nlvzxz53uos31.jpg HTTP/1.1\" 200 72949\n",
            " 2019-10-15 15:54:27,826 - DEBUG - Downloaded image: /content/TESTDIR_forRedditImages/nlvzxz53uos31.jpg\n",
            " 2019-10-15 15:54:27,830 - DEBUG - \n",
            "\n",
            " 2019-10-15 15:54:27,832 - DEBUG - https://preview.redd.it/z8esahop6ps31.jpg?width=640&crop=smart&auto=webp&s=41fb79163f6e1fa65343024136eae0eab78d6bff\n",
            " 2019-10-15 15:54:27,836 - DEBUG - ----------------------\n",
            " 2019-10-15 15:54:27,841 - DEBUG - Raw URL: https://preview.redd.it/z8esahop6ps31.jpg?width=640&crop=smart&auto=webp&s=41fb79163f6e1fa65343024136eae0eab78d6bff\n",
            " 2019-10-15 15:54:27,846 - DEBUG - URL Parsed: /z8esahop6ps31.jpg\n",
            " 2019-10-15 15:54:27,848 - DEBUG - Filename: z8esahop6ps31.jpg\n",
            " 2019-10-15 15:54:27,849 - DEBUG - DownloadURL: https://i.redd.it/z8esahop6ps31.jpg\n",
            " 2019-10-15 15:54:27,853 - DEBUG - Starting new HTTPS connection (1): i.redd.it:443\n",
            " 2019-10-15 15:54:27,919 - DEBUG - https://i.redd.it:443 \"GET /z8esahop6ps31.jpg HTTP/1.1\" 200 66427\n",
            " 2019-10-15 15:54:27,946 - DEBUG - Downloaded image: /content/TESTDIR_forRedditImages/z8esahop6ps31.jpg\n",
            " 2019-10-15 15:54:27,947 - DEBUG - \n",
            "\n",
            " 2019-10-15 15:54:27,948 - DEBUG - https://i.redd.it/9biqh9f4sos31.jpg\n",
            " 2019-10-15 15:54:27,950 - DEBUG - ----------------------\n",
            " 2019-10-15 15:54:27,952 - DEBUG - Raw URL: https://i.redd.it/9biqh9f4sos31.jpg\n",
            " 2019-10-15 15:54:27,953 - DEBUG - URL Parsed: /9biqh9f4sos31.jpg\n",
            " 2019-10-15 15:54:27,954 - DEBUG - Filename: 9biqh9f4sos31.jpg\n",
            " 2019-10-15 15:54:27,957 - DEBUG - DownloadURL: https://i.redd.it/9biqh9f4sos31.jpg\n",
            " 2019-10-15 15:54:27,962 - DEBUG - Starting new HTTPS connection (1): i.redd.it:443\n",
            " 2019-10-15 15:54:28,027 - DEBUG - https://i.redd.it:443 \"GET /9biqh9f4sos31.jpg HTTP/1.1\" 200 14137\n",
            " 2019-10-15 15:54:28,041 - DEBUG - Downloaded image: /content/TESTDIR_forRedditImages/9biqh9f4sos31.jpg\n",
            " 2019-10-15 15:54:28,042 - DEBUG - \n",
            "\n",
            " 2019-10-15 15:54:28,047 - DEBUG - https://preview.redd.it/3cbzo4kybps31.jpg?width=640&crop=smart&auto=webp&s=3a4d7805f29e46345743e8e4401983116703cb2a\n",
            " 2019-10-15 15:54:28,048 - DEBUG - ----------------------\n",
            " 2019-10-15 15:54:28,049 - DEBUG - Raw URL: https://preview.redd.it/3cbzo4kybps31.jpg?width=640&crop=smart&auto=webp&s=3a4d7805f29e46345743e8e4401983116703cb2a\n",
            " 2019-10-15 15:54:28,051 - DEBUG - URL Parsed: /3cbzo4kybps31.jpg\n",
            " 2019-10-15 15:54:28,052 - DEBUG - Filename: 3cbzo4kybps31.jpg\n",
            " 2019-10-15 15:54:28,054 - DEBUG - DownloadURL: https://i.redd.it/3cbzo4kybps31.jpg\n",
            " 2019-10-15 15:54:28,061 - DEBUG - Starting new HTTPS connection (1): i.redd.it:443\n",
            " 2019-10-15 15:54:28,130 - DEBUG - https://i.redd.it:443 \"GET /3cbzo4kybps31.jpg HTTP/1.1\" 200 268477\n",
            " 2019-10-15 15:54:28,181 - DEBUG - Downloaded image: /content/TESTDIR_forRedditImages/3cbzo4kybps31.jpg\n",
            " 2019-10-15 15:54:28,182 - DEBUG - \n",
            "\n"
          ],
          "name": "stderr"
        }
      ]
    }
  ]
}