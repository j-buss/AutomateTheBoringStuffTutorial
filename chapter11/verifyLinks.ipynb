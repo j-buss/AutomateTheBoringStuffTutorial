{
  "nbformat": 4,
  "nbformat_minor": 0,
  "metadata": {
    "colab": {
      "name": "Untitled6.ipynb",
      "provenance": [],
      "include_colab_link": true
    },
    "kernelspec": {
      "name": "python3",
      "display_name": "Python 3"
    }
  },
  "cells": [
    {
      "cell_type": "markdown",
      "metadata": {
        "id": "view-in-github",
        "colab_type": "text"
      },
      "source": [
        "<a href=\"https://colab.research.google.com/github/j-buss/AutomateTheBoringStuffTutorial/blob/dev-chapter09/chapter11/verifyLinks.ipynb\" target=\"_parent\"><img src=\"https://colab.research.google.com/assets/colab-badge.svg\" alt=\"Open In Colab\"/></a>"
      ]
    },
    {
      "cell_type": "code",
      "metadata": {
        "id": "o-RZb4SeRDRv",
        "colab_type": "code",
        "colab": {}
      },
      "source": [
        "import requests\n",
        "import sys\n",
        "from bs4 import BeautifulSoup"
      ],
      "execution_count": 0,
      "outputs": []
    },
    {
      "cell_type": "code",
      "metadata": {
        "id": "effQcIPvRgpg",
        "colab_type": "code",
        "colab": {}
      },
      "source": [
        "def returnSoup(pageURL, headers):\n",
        "    req = requests.get(pageURL, headers)\n",
        "    req.raise_for_status()\n",
        "    soup = BeautifulSoup(req.text, \"html.parser\")\n",
        "    return soup"
      ],
      "execution_count": 0,
      "outputs": []
    },
    {
      "cell_type": "code",
      "metadata": {
        "id": "WKlMXIzoSUaQ",
        "colab_type": "code",
        "colab": {}
      },
      "source": [
        "headers = requests.utils.default_headers()\n",
        "headers.update({ 'User-Agent': 'Mozilla/5.0 (X11; Ubuntu; Linux x86_64; rv:52.0) Gecko/20100101 Firefox/52.0'})"
      ],
      "execution_count": 0,
      "outputs": []
    },
    {
      "cell_type": "code",
      "metadata": {
        "id": "e8U68pZORmxB",
        "colab_type": "code",
        "colab": {}
      },
      "source": [
        "url = \"https://google.com/search?q=python\"\n",
        "tempSoup = returnSoup(url, headers)"
      ],
      "execution_count": 0,
      "outputs": []
    },
    {
      "cell_type": "code",
      "metadata": {
        "id": "Qcbl45ymSZGr",
        "colab_type": "code",
        "colab": {}
      },
      "source": [
        "elems = tempSoup.find_all(\".a href\")"
      ],
      "execution_count": 0,
      "outputs": []
    },
    {
      "cell_type": "code",
      "metadata": {
        "id": "MQMc0ywNT61z",
        "colab_type": "code",
        "colab": {}
      },
      "source": [
        "def cleanLink(rawLink):\n",
        "  startLink = rawLink.find('q=') + 2\n",
        "  endLink = rawLink.find('&sa=')\n",
        "  formattedLink = rawLink[startLink:endLink]\n",
        "  return formattedLink"
      ],
      "execution_count": 0,
      "outputs": []
    },
    {
      "cell_type": "code",
      "metadata": {
        "id": "Gb9IzqzxSlvo",
        "colab_type": "code",
        "colab": {
          "base_uri": "https://localhost:8080/",
          "height": 1000
        },
        "outputId": "59e169f7-836f-4619-c798-5ad7ec2a3fe3"
      },
      "source": [
        "for a in tempSoup.find_all('a', href=True):\n",
        "  tempLink = a['href']\n",
        "  print(tempLink)\n",
        "  if \"http\" in tempLink: \n",
        "    print (\"Found the URL:\" + cleanLink(tempLink))"
      ],
      "execution_count": 20,
      "outputs": [
        {
          "output_type": "stream",
          "text": [
            "/?sa=X&ved=0ahUKEwjRr6S7np3lAhVSeXAKHXwIDT4QOwgC\n",
            "/?output=search&ie=UTF-8&sa=X&ved=0ahUKEwjRr6S7np3lAhVSeXAKHXwIDT4QPAgE\n",
            "/search?q=python&ie=UTF-8&gbv=1&sei=jjGlXdGwENLywQP8kLTwAw\n",
            "/search?q=python&ie=UTF-8&source=lnms&tbm=isch&sa=X&ved=0ahUKEwjRr6S7np3lAhVSeXAKHXwIDT4Q_AUICCgB\n",
            "/search?q=python&ie=UTF-8&source=lnms&tbm=nws&sa=X&ved=0ahUKEwjRr6S7np3lAhVSeXAKHXwIDT4Q_AUICSgC\n",
            "/search?q=python&ie=UTF-8&source=lnms&tbm=vid&sa=X&ved=0ahUKEwjRr6S7np3lAhVSeXAKHXwIDT4Q_AUICigD\n",
            "https://maps.google.com/maps?q=python&um=1&ie=UTF-8&sa=X&ved=0ahUKEwjRr6S7np3lAhVSeXAKHXwIDT4Q_AUICygE\n",
            "Found the URL:python&um=1&ie=UTF-8\n",
            "/search?q=python&ie=UTF-8&source=lnms&tbm=shop&sa=X&ved=0ahUKEwjRr6S7np3lAhVSeXAKHXwIDT4Q_AUIDCgF\n",
            "/search?q=python&ie=UTF-8&source=lnms&tbm=bks&sa=X&ved=0ahUKEwjRr6S7np3lAhVSeXAKHXwIDT4Q_AUIDSgG\n",
            "/advanced_search\n",
            "/search?q=python&ie=UTF-8&source=lnt&tbs=qdr:h&sa=X&ved=0ahUKEwjRr6S7np3lAhVSeXAKHXwIDT4QpwUIDw\n",
            "/search?q=python&ie=UTF-8&source=lnt&tbs=qdr:d&sa=X&ved=0ahUKEwjRr6S7np3lAhVSeXAKHXwIDT4QpwUIEA\n",
            "/search?q=python&ie=UTF-8&source=lnt&tbs=qdr:w&sa=X&ved=0ahUKEwjRr6S7np3lAhVSeXAKHXwIDT4QpwUIEQ\n",
            "/search?q=python&ie=UTF-8&source=lnt&tbs=qdr:m&sa=X&ved=0ahUKEwjRr6S7np3lAhVSeXAKHXwIDT4QpwUIEg\n",
            "/search?q=python&ie=UTF-8&source=lnt&tbs=qdr:y&sa=X&ved=0ahUKEwjRr6S7np3lAhVSeXAKHXwIDT4QpwUIEw\n",
            "/search?q=python&ie=UTF-8&source=lnt&tbs=li:1&sa=X&ved=0ahUKEwjRr6S7np3lAhVSeXAKHXwIDT4QpwUIFQ\n",
            "/url?q=https://www.python.org/&sa=U&ved=2ahUKEwjRr6S7np3lAhVSeXAKHXwIDT4QFjAAegQICBAB&usg=AOvVaw2TGYM7hyMWbwcsVnk3CxMs\n",
            "Found the URL:https://www.python.org/\n",
            "/url?q=https://www.python.org/downloads/&sa=U&ved=2ahUKEwjRr6S7np3lAhVSeXAKHXwIDT4QjBAwAXoECAgQAw&usg=AOvVaw3u_Iux5r4DoTGMFvB8IKRV\n",
            "Found the URL:https://www.python.org/downloads/\n",
            "/url?q=https://www.python.org/about/gettingstarted/&sa=U&ved=2ahUKEwjRr6S7np3lAhVSeXAKHXwIDT4QjBAwAnoECAgQBQ&usg=AOvVaw2vmeH5hjzABPVpQCKTDqaK\n",
            "Found the URL:https://www.python.org/about/gettingstarted/\n",
            "/url?q=https://docs.python.org/2/tutorial/&sa=U&ved=2ahUKEwjRr6S7np3lAhVSeXAKHXwIDT4QjBAwA3oECAgQBw&usg=AOvVaw2Edq61ZwgcsQUV6kCvxzIm\n",
            "Found the URL:https://docs.python.org/2/tutorial/\n",
            "/url?q=https://www.python.org/downloads/release/python-374/&sa=U&ved=2ahUKEwjRr6S7np3lAhVSeXAKHXwIDT4QjBAwBHoECAgQCQ&usg=AOvVaw00k50JXlQOKHAyu18DABMs\n",
            "Found the URL:https://www.python.org/downloads/release/python-374/\n",
            "/url?q=https://www.python.org/downloads/windows/&sa=U&ved=2ahUKEwjRr6S7np3lAhVSeXAKHXwIDT4QjBAwBXoECAgQCw&usg=AOvVaw1fzjO9qhx6kppZeoC9lj6s\n",
            "Found the URL:https://www.python.org/downloads/windows/\n",
            "/url?q=https://www.python.org/doc/&sa=U&ved=2ahUKEwjRr6S7np3lAhVSeXAKHXwIDT4QjBAwBnoECAgQDQ&usg=AOvVaw3iSppl5nF-6Co_xfjibknk\n",
            "Found the URL:https://www.python.org/doc/\n",
            "https://www.python.org/community/logos/?sa=X&ved=2ahUKEwjRr6S7np3lAhVSeXAKHXwIDT4Q9QF6BAgJEAQ\n",
            "Found the URL:ttps://www.python.org/community/logos/?sa=X&ved=2ahUKEwjRr6S7np3lAhVSeXAKHXwIDT4Q9QF6BAgJEA\n",
            "https://www.infoworld.com/article/3330601/pyoxidizer-uses-rust-to-make-python-executables.html?sa=X&ved=2ahUKEwjRr6S7np3lAhVSeXAKHXwIDT4Q9QF6BAgJEAY\n",
            "Found the URL:ttps://www.infoworld.com/article/3330601/pyoxidizer-uses-rust-to-make-python-executables.html?sa=X&ved=2ahUKEwjRr6S7np3lAhVSeXAKHXwIDT4Q9QF6BAgJEA\n",
            "https://developers.redhat.com/blog/2019/05/07/what-no-python-in-red-hat-enterprise-linux-8/?sa=X&ved=2ahUKEwjRr6S7np3lAhVSeXAKHXwIDT4Q9QF6BAgJEAg\n",
            "Found the URL:ttps://developers.redhat.com/blog/2019/05/07/what-no-python-in-red-hat-enterprise-linux-8/?sa=X&ved=2ahUKEwjRr6S7np3lAhVSeXAKHXwIDT4Q9QF6BAgJEA\n",
            "https://www.makeuseof.com/tag/program-control-arduino-python/?sa=X&ved=2ahUKEwjRr6S7np3lAhVSeXAKHXwIDT4Q9QF6BAgJEAo\n",
            "Found the URL:ttps://www.makeuseof.com/tag/program-control-arduino-python/?sa=X&ved=2ahUKEwjRr6S7np3lAhVSeXAKHXwIDT4Q9QF6BAgJEA\n",
            "https://www.activestate.com/blog/python-3-vs-python-2-its-different-time/?sa=X&ved=2ahUKEwjRr6S7np3lAhVSeXAKHXwIDT4Q9QF6BAgJEAw\n",
            "Found the URL:ttps://www.activestate.com/blog/python-3-vs-python-2-its-different-time/?sa=X&ved=2ahUKEwjRr6S7np3lAhVSeXAKHXwIDT4Q9QF6BAgJEA\n",
            "https://www.google.com/search?ie=UTF-8&ei=jjGlXdGwENLywQP8kLTwAw&q=python&tbm=isch&sa=X&ved=2ahUKEwjRr6S7np3lAhVSeXAKHXwIDT4Q7Al6BAgJEA4\n",
            "Found the URL:python&tbm=isch\n",
            "/url?q=https://en.wikipedia.org/wiki/Python_(programming_language)&sa=U&ved=2ahUKEwjRr6S7np3lAhVSeXAKHXwIDT4QmhMwE3oECAkQEA&usg=AOvVaw10Ma0-Puk4TPcyRwq1VTvk\n",
            "Found the URL:https://en.wikipedia.org/wiki/Python_(programming_language)\n",
            "/search?ie=UTF-8&q=Duck&stick=H4sIAAAAAAAAAOPgE-LQz9U3MK0yjFfiBLGMLIos4rWki4ut9MtTk9ISk0uKrUoqC1LjUzKLkzMLcjLzFrGyuJQmZwMAwi9X8jsAAAA&sa=X&ved=2ahUKEwjRr6S7np3lAhVSeXAKHXwIDT4QmxMwFXoECAkQEg\n",
            "/search?ie=UTF-8&q=dynamic&stick=H4sIAAAAAAAAAOPgE-LQz9U3MK0yjFfi1k_XNzQCAuO0HC3p4mIr_fLUpLTE5JJiq5LKgtT4lMzi5MyCnMy8RazsKZV5ibmZyQDImWrbQAAAAA&sa=X&ved=2ahUKEwjRr6S7np3lAhVSeXAKHXwIDT4QmxMwFXoECAkQEw\n",
            "/search?ie=UTF-8&q=gradual&stick=H4sIAAAAAAAAAOPgE-LQz9U3MK0yjFfiArHKjY2qigy0pIuLrfTLU5PSEpNLiq1KKgtS41Myi5MzC3Iy8xaxsqcXJaaUJuYAAGHYcbM_AAAA&sa=X&ved=2ahUKEwjRr6S7np3lAhVSeXAKHXwIDT4QmxMwFXoECAkQFA\n",
            "/search?ie=UTF-8&q=30+August+2019&stick=H4sIAAAAAAAAAOPgE-LQz9U3MK0yjFcS0C_RNzLPTi-zqLJINk8qK9KSLi620i9PTUpLTC4ptiooSi3LTC2PL0rNSU0sXsTKZ2yg4FiaXlpcomBkYGgJADTFeWZMAAAA&sa=X&ved=2ahUKEwjRr6S7np3lAhVSeXAKHXwIDT4QmxMwFnoECAkQFg\n",
            "/search?ie=UTF-8&q=Guido+van+Rossum&stick=H4sIAAAAAAAAAOPgE-LQz9U3MK0yjFfiBLEMMwxMk7UMMsqt9JPzc3JSk0sy8_P0C4ry04sSc3Mz89LjcxLz0ksT01OLrVJSizPT81JTFJIqF7EKuJdmpuQrlCXmKQTlFxeX5gIAXhtP9lwAAAA&sa=X&ved=2ahUKEwjRr6S7np3lAhVSeXAKHXwIDT4QmxMwF3oECAkQGA\n",
            "/search?ie=UTF-8&q=8+July+2019&stick=H4sIAAAAAAAAAOPgE-LQz9U3MK0yjFcS0C_RNzIpSso2NMursKgwMdaSLC620i9PTUpLTC4ptiouSUzKiS9KzUlNLF7Eym2h4FWaU6lgZGBoCQDTMfLIRwAAAA&sa=X&ved=2ahUKEwjRr6S7np3lAhVSeXAKHXwIDT4QmxMwGHoECAkQGg\n",
            "/search?ie=UTF-8&q=2.7.16&stick=H4sIAAAAAAAAAOPgE-LQz9U3MK0yjFcS0C_RNzKLzymrsqioNMytStKSLC620i9PTUpLTC4ptiouSUzKiS9KzUlNLF7EymakZ65naAYAuLPUBUIAAAA&sa=X&ved=2ahUKEwjRr6S7np3lAhVSeXAKHXwIDT4QmxMwGHoECAkQGw\n",
            "/search?ie=UTF-8&q=4+March+2019&stick=H4sIAAAAAAAAAOPgE-LQz9U3MK0yjFcS0C_RNzIxLzcwMEsuMsupKNSSLC620i9PTUpLTC4ptiouSUzKiS9KzUlNLF7EymOi4JtYlJyhYGRgaAkAp24TGEgAAAA&sa=X&ved=2ahUKEwjRr6S7np3lAhVSeXAKHXwIDT4QmxMwGHoECAkQHA\n",
            "/search?ie=UTF-8&q=object-oriented&stick=H4sIAAAAAAAAAOPgE-LQz9U3MK0yjFeCsAqKsrREi4ut9MtTk9ISk0uKrQoSixJTMtNzF7Hy5ydlpSaX6OYXZabmlaSmAAC5CJ1XPwAAAA&sa=X&ved=2ahUKEwjRr6S7np3lAhVSeXAKHXwIDT4QmxMwGnoECAkQHw\n",
            "/search?ie=UTF-8&q=reflective&stick=H4sIAAAAAAAAAOPgE-LQz9U3MK0yjFfiBLEMSwrNC7REi4ut9MtTk9ISk0uKrQoSixJTMtNzF7FyFaWm5aQml2SWpQIAGvYSJDsAAAA&sa=X&ved=2ahUKEwjRr6S7np3lAhVSeXAKHXwIDT4QmxMwGnoECAkQIA\n",
            "/search?ie=UTF-8&q=Numba&stick=H4sIAAAAAAAAAONgFuLQz9U3MK0yjFfiArGqUrItyky0RLKTrfST83Nz8_OsUvLL88oTi1KKF7Gy-pXmJiUCAE2hb0w2AAAA&sa=X&ved=2ahUKEwjRr6S7np3lAhVSeXAKHXwIDT4Q0I4BMBt6BAgJECM\n",
            "/search?ie=UTF-8&q=Pyjs&stick=H4sIAAAAAAAAAONgFuLQz9U3MK0yjFfiArFMKs2TLMy1RLKTrfST83Nz8_OsUvLL88oTi1KKF7GyBFRmFQMA2WzTMDUAAAA&sa=X&ved=2ahUKEwjRr6S7np3lAhVSeXAKHXwIDT4Q0I4BMBt6BAgJECU\n",
            "/search?ie=UTF-8&q=Travis+CI&stick=H4sIAAAAAAAAAONgFuLQz9U3MK0yjFfiArGyystzCwq0RLKTrfST83Nz8_OsUvLL88oTi1KKF7FyhhQllmUWKzh7AgBgYOjpOgAAAA&sa=X&ved=2ahUKEwjRr6S7np3lAhVSeXAKHXwIDT4Q0I4BMBt6BAgJECc\n",
            "/search?ie=UTF-8&q=MinGW&stick=H4sIAAAAAAAAAONgFuLQz9U3MK0yjFfiBLEM47ON0rVEspOt9JPzc3Pz86xS8svzyhOLUooXsbL6Zua5hwMAdA2erDUAAAA&sa=X&ved=2ahUKEwjRr6S7np3lAhVSeXAKHXwIDT4Q0I4BMBt6BAgJECk\n",
            "/search?ie=UTF-8&q=Babel+(compiler)&stick=H4sIAAAAAAAAAONgFuLQz9U3MK0yjFfi1U_XNzRMz8hLy6tMq9ASyU620k_Oz83Nz7NKyS_PK08sSilexCrglJiUmqOgAZQpyMxJLdIEAL-0n6VEAAAA&sa=X&ved=2ahUKEwjRr6S7np3lAhVSeXAKHXwIDT4Q0I4BMBt6BAgJECs\n",
            "/search?ie=UTF-8&q=Clang&stick=H4sIAAAAAAAAAONgFuLQz9U3MK0yjFfiArGMyo3jkyq1RLKTrfST83Nz8_OsUvLL88oTi1KKF7GyOuck5qUDAE5gOQY2AAAA&sa=X&ved=2ahUKEwjRr6S7np3lAhVSeXAKHXwIDT4Q0I4BMBt6BAgJEC0\n",
            "/search?ie=UTF-8&q=Java&stick=H4sIAAAAAAAAAONgFuLQz9U3MK0yjFfiArHMi5Oy05K0hLOTrfST83Nz8_OsijNTUssTK4sXsbJ4JZYlAgB_0SeKNAAAAA&sa=X&ved=2ahUKEwjRr6S7np3lAhVSeXAKHXwIDT4Q0I4BMBx6BAgJEDA\n",
            "/search?ie=UTF-8&q=C%2B%2B&stick=H4sIAAAAAAAAAONgFuLQz9U3MK0yjFcCs7LSC9O1hLOTrfST83Nz8_OsijNTUssTK4sXsTI7a2sDAIk31Y0xAAAA&sa=X&ved=2ahUKEwjRr6S7np3lAhVSeXAKHXwIDT4Q0I4BMBx6BAgJEDI\n",
            "/search?ie=UTF-8&q=JavaScript&stick=H4sIAAAAAAAAAONgFuLQz9U3MK0yjFcCs4wKLM21hLOTrfST83Nz8_OsijNTUssTK4sXsXJ5JZYlBicXZRaUAACuW_JFOAAAAA&sa=X&ved=2ahUKEwjRr6S7np3lAhVSeXAKHXwIDT4Q0I4BMBx6BAgJEDQ\n",
            "/search?ie=UTF-8&q=R+(programming+language)&stick=H4sIAAAAAAAAAONgFuLQz9U3MK0yjFfiBLGMDI2ycrWEs5Ot9JPzc3Pz86yKM1NSyxMrixexSgQpaBQU5acXJebmZualK-Qk5qWXJqanagIA_XSCZkcAAAA&sa=X&ved=2ahUKEwjRr6S7np3lAhVSeXAKHXwIDT4Q0I4BMBx6BAgJEDY\n",
            "/search?ie=UTF-8&q=PHP&stick=H4sIAAAAAAAAAONgFuLQz9U3MK0yjFcCs8wMssu0hLOTrfST83Nz8_OsijNTUssTK4sXsTIHeAQAAD9fip4xAAAA&sa=X&ved=2ahUKEwjRr6S7np3lAhVSeXAKHXwIDT4Q0I4BMBx6BAgJEDg\n",
            "/search?ie=UTF-8&q=SQL&stick=H4sIAAAAAAAAAONgFuLQz9U3MK0yjFcCs8xNi0u0hLOTrfST83Nz8_OsijNTUssTK4sXsTIHB_oAAFUhtvsxAAAA&sa=X&ved=2ahUKEwjRr6S7np3lAhVSeXAKHXwIDT4Q0I4BMBx6BAgJEDo\n",
            "/search?ie=UTF-8&q=CPython&stick=H4sIAAAAAAAAAONgVuLUz9U3MEuqqEgCAM9U04oNAAAA&sa=X&ved=2ahUKEwjRr6S7np3lAhVSeXAKHXwIDT4Q6RMwHnoECAYQAw\n",
            "/search?ie=UTF-8&q=CPython&stick=H4sIAAAAAAAAAONgVuLUz9U3MEuqqEgCAM9U04oNAAAA&sa=X&ved=2ahUKEwjRr6S7np3lAhVSeXAKHXwIDT4Q6RMwHnoECAYQBA\n",
            "/url?q=https://en.wikipedia.org/wiki/Python_(programming_language)&sa=U&ved=2ahUKEwjRr6S7np3lAhVSeXAKHXwIDT4QFjAfegQIAhAB&usg=AOvVaw05YbsaHPErcXvHOMRWtIbJ\n",
            "Found the URL:https://en.wikipedia.org/wiki/Python_(programming_language)\n",
            "/url?q=https://en.wikipedia.org/wiki/Python_Software_Foundation&sa=U&ved=2ahUKEwjRr6S7np3lAhVSeXAKHXwIDT4Qs2YwH3oECAIQBA&usg=AOvVaw1sQ9RhjHt2_QYcCb5Tko8V\n",
            "Found the URL:https://en.wikipedia.org/wiki/Python_Software_Foundation\n",
            "/url?q=https://en.wikipedia.org/wiki/Guido_van_Rossum&sa=U&ved=2ahUKEwjRr6S7np3lAhVSeXAKHXwIDT4Qs2YwH3oECAIQBg&usg=AOvVaw3EFHAsmmNAGytStFDCTElK\n",
            "Found the URL:https://en.wikipedia.org/wiki/Guido_van_Rossum\n",
            "/url?q=https://en.wikipedia.org/wiki/Duck_typing&sa=U&ved=2ahUKEwjRr6S7np3lAhVSeXAKHXwIDT4Qs2YwH3oECAIQCA&usg=AOvVaw3TV7IkjZs6Y__uETmeD9IA\n",
            "Found the URL:https://en.wikipedia.org/wiki/Duck_typing\n",
            "/url?q=https://en.wikipedia.org/wiki/Dynamic_typing&sa=U&ved=2ahUKEwjRr6S7np3lAhVSeXAKHXwIDT4Qs2YwH3oECAIQCQ&usg=AOvVaw20Tun-Dv07urxolV3u1vq9\n",
            "Found the URL:https://en.wikipedia.org/wiki/Dynamic_typing\n",
            "/url?q=https://en.wikipedia.org/wiki/Gradual_typing&sa=U&ved=2ahUKEwjRr6S7np3lAhVSeXAKHXwIDT4Qs2YwH3oECAIQCg&usg=AOvVaw0WhtEKbDD0UN0Mj4bC3FAh\n",
            "Found the URL:https://en.wikipedia.org/wiki/Gradual_typing\n",
            "/url?q=https://en.wikipedia.org/wiki/Multi-paradigm_programming_language&sa=U&ved=2ahUKEwjRr6S7np3lAhVSeXAKHXwIDT4Qs2YwH3oECAIQDA&usg=AOvVaw0acch2iUaLaMtTZpAtGXg0\n",
            "Found the URL:https://en.wikipedia.org/wiki/Multi-paradigm_programming_language\n",
            "/url?q=https://en.wikipedia.org/wiki/Functional_programming&sa=U&ved=2ahUKEwjRr6S7np3lAhVSeXAKHXwIDT4Qs2YwH3oECAIQDQ&usg=AOvVaw3uZ5YU6pXuCJFQR42ORMta\n",
            "Found the URL:https://en.wikipedia.org/wiki/Functional_programming\n",
            "/url?q=https://en.wikipedia.org/wiki/Imperative_programming&sa=U&ved=2ahUKEwjRr6S7np3lAhVSeXAKHXwIDT4Qs2YwH3oECAIQDg&usg=AOvVaw3rJuBAxqjbwcMMfYA9gIsO\n",
            "Found the URL:https://en.wikipedia.org/wiki/Imperative_programming\n",
            "/url?q=https://en.wikipedia.org/wiki/Object-oriented_programming&sa=U&ved=2ahUKEwjRr6S7np3lAhVSeXAKHXwIDT4Qs2YwH3oECAIQDw&usg=AOvVaw17_-CmIyriVvI7hNWCm-tn\n",
            "Found the URL:https://en.wikipedia.org/wiki/Object-oriented_programming\n",
            "/url?q=https://en.wikipedia.org/wiki/Reflective_programming&sa=U&ved=2ahUKEwjRr6S7np3lAhVSeXAKHXwIDT4Qs2YwH3oECAIQEA&usg=AOvVaw3UNsNdXQqobL5yDEmN0504\n",
            "Found the URL:https://en.wikipedia.org/wiki/Reflective_programming\n",
            "/url?q=https://www.w3schools.com/python/python_intro.asp&sa=U&ved=2ahUKEwjRr6S7np3lAhVSeXAKHXwIDT4QFjAgegQIBBAB&usg=AOvVaw3qWq_rD2MeB5MfM-eEwRPL\n",
            "Found the URL:https://www.w3schools.com/python/python_intro.asp\n",
            "/url?q=https://www.codecademy.com/learn/learn-python&sa=U&ved=2ahUKEwjRr6S7np3lAhVSeXAKHXwIDT4QFjAhegQIAxAB&usg=AOvVaw0vUjknAC2xZrfOrXK0zjGr\n",
            "Found the URL:https://www.codecademy.com/learn/learn-python\n",
            "/url?q=https://www.geeksforgeeks.org/python-programming-language/&sa=U&ved=2ahUKEwjRr6S7np3lAhVSeXAKHXwIDT4QFjAiegQIARAB&usg=AOvVaw0v9zfBUDCsv6IHM_oQWzlz\n",
            "Found the URL:https://www.geeksforgeeks.org/python-programming-language/\n",
            "/url?q=https://github.com/python&sa=U&ved=2ahUKEwjRr6S7np3lAhVSeXAKHXwIDT4QFjAjegQIBRAB&usg=AOvVaw1rVJGvWDpT3ff4gBM5j16P\n",
            "Found the URL:https://github.com/python\n",
            "/url?q=https://i-programmer.info/news/216-python/13168-learn-python-with-microsoft-or-the-university-of-michigan.html&sa=U&ved=2ahUKEwjRr6S7np3lAhVSeXAKHXwIDT4Q0PADMCR6BAgHEAI&usg=AOvVaw1mwDh7BwkSBI5lGoBb4LTe\n",
            "Found the URL:https://i-programmer.info/news/216-python/13168-learn-python-with-microsoft-or-the-university-of-michigan.html\n",
            "/url?q=https://www.zdnet.com/article/salesforce-why-we-ditched-python-for-googles-go-language-in-einstein-analytics/&sa=U&ved=2ahUKEwjRr6S7np3lAhVSeXAKHXwIDT4Q0PADMCV6BAgHEAY&usg=AOvVaw13QHC6gmGRzOjjBpv4ow_K\n",
            "Found the URL:https://www.zdnet.com/article/salesforce-why-we-ditched-python-for-googles-go-language-in-einstein-analytics/\n",
            "/url?q=https://www.androidauthority.com/sql-database-python-bundle-1037468/&sa=U&ved=2ahUKEwjRr6S7np3lAhVSeXAKHXwIDT4Q0PADMCZ6BAgHEAo&usg=AOvVaw1bFFzs-6E4MTirFq10raNM\n",
            "Found the URL:https://www.androidauthority.com/sql-database-python-bundle-1037468/\n",
            "/url?q=https://www.searchenginejournal.com/uncover-powerful-data-stories-python/328471/&sa=U&ved=2ahUKEwjRr6S7np3lAhVSeXAKHXwIDT4Q0PADMCd6BAgHEA4&usg=AOvVaw2d0q-ojCd0VxsAOofwdsJ2\n",
            "Found the URL:https://www.searchenginejournal.com/uncover-powerful-data-stories-python/328471/\n",
            "/url?q=https://www.zdnet.com/article/python-inspired-nim-version-1-0-of-the-programming-language-launches/&sa=U&ved=2ahUKEwjRr6S7np3lAhVSeXAKHXwIDT4Q0PADMCh6BAgHEBI&usg=AOvVaw0AiMC0YOBRvjmk4XWoDyIk\n",
            "Found the URL:https://www.zdnet.com/article/python-inspired-nim-version-1-0-of-the-programming-language-launches/\n",
            "/url?q=https://channel9.msdn.com/Series/Intro-to-Python-Development&sa=U&ved=2ahUKEwjRr6S7np3lAhVSeXAKHXwIDT4Q0PADMCl6BAgHEBY&usg=AOvVaw3FTT4Rx1tQW_JiFqbE9DxK\n",
            "Found the URL:https://channel9.msdn.com/Series/Intro-to-Python-Development\n",
            "/url?q=https://channel9.msdn.com/Series/Intro-to-Python-Development/Python-for-Beginners-1-of-44-Programming-with-Python&sa=U&ved=2ahUKEwjRr6S7np3lAhVSeXAKHXwIDT4Q0PADMCp6BAgHEBo&usg=AOvVaw2r8Kki6K3eXuE9HeJWJyoa\n",
            "Found the URL:https://channel9.msdn.com/Series/Intro-to-Python-Development/Python-for-Beginners-1-of-44-Programming-with-Python\n",
            "/url?q=https://www.techrepublic.com/article/how-to-write-four-million-lines-of-python-lessons-from-dropbox-on-using-the-programming-language-at-scale/&sa=U&ved=2ahUKEwjRr6S7np3lAhVSeXAKHXwIDT4Q0PADMCt6BAgHEB4&usg=AOvVaw1bEDCPzB4T6Zem5t3hVpT3\n",
            "Found the URL:https://www.techrepublic.com/article/how-to-write-four-million-lines-of-python-lessons-from-dropbox-on-using-the-programming-language-at-scale/\n",
            "/url?q=https://spectrum.ieee.org/computing/software/the-top-programming-languages-2019&sa=U&ved=2ahUKEwjRr6S7np3lAhVSeXAKHXwIDT4Q0PADMCx6BAgHECI&usg=AOvVaw3E5UnEDrLn3eysHgJhVgKW\n",
            "Found the URL:https://spectrum.ieee.org/computing/software/the-top-programming-languages-2019\n",
            "/url?q=https://www.techradar.com/best/best-ide-for-python&sa=U&ved=2ahUKEwjRr6S7np3lAhVSeXAKHXwIDT4Q0PADMC16BAgHECY&usg=AOvVaw3revrbpPw6EL4ScepA7M1A\n",
            "Found the URL:https://www.techradar.com/best/best-ide-for-python\n",
            "/search?ie=UTF-8&q=python+software&sa=X&ved=2ahUKEwjRr6S7np3lAhVSeXAKHXwIDT4Q1QJ6BAgAEAE\n",
            "/search?ie=UTF-8&q=python+software\n",
            "/search?ie=UTF-8&q=what+is+python+used+for&sa=X&ved=2ahUKEwjRr6S7np3lAhVSeXAKHXwIDT4Q1QJ6BAgAEAI\n",
            "/search?ie=UTF-8&q=what+is+python+used+for\n",
            "/search?ie=UTF-8&q=python+tutorial&sa=X&ved=2ahUKEwjRr6S7np3lAhVSeXAKHXwIDT4Q1QJ6BAgAEAM\n",
            "/search?ie=UTF-8&q=python+tutorial\n",
            "/search?ie=UTF-8&q=python+download&sa=X&ved=2ahUKEwjRr6S7np3lAhVSeXAKHXwIDT4Q1QJ6BAgAEAQ\n",
            "/search?ie=UTF-8&q=python+download\n",
            "/search?ie=UTF-8&q=python+syntax&sa=X&ved=2ahUKEwjRr6S7np3lAhVSeXAKHXwIDT4Q1QJ6BAgAEAU\n",
            "/search?ie=UTF-8&q=python+syntax\n",
            "/search?ie=UTF-8&q=learn+python&sa=X&ved=2ahUKEwjRr6S7np3lAhVSeXAKHXwIDT4Q1QJ6BAgAEAY\n",
            "/search?ie=UTF-8&q=learn+python\n",
            "/search?ie=UTF-8&q=python+3&sa=X&ved=2ahUKEwjRr6S7np3lAhVSeXAKHXwIDT4Q1QJ6BAgAEAc\n",
            "/search?ie=UTF-8&q=python+3\n",
            "/search?ie=UTF-8&q=python+for+beginners&sa=X&ved=2ahUKEwjRr6S7np3lAhVSeXAKHXwIDT4Q1QJ6BAgAEAg\n",
            "/search?ie=UTF-8&q=python+for+beginners\n",
            "/search?q=python&ie=UTF-8&ei=jjGlXdGwENLywQP8kLTwAw&start=10&sa=N\n",
            "/url?q=https://accounts.google.com/ServiceLogin%3Fcontinue%3Dhttps://www.google.com/search%253Fq%253Dpython%26hl%3Den&sa=U&ved=0ahUKEwjRr6S7np3lAhVSeXAKHXwIDT4Qxs8CCLMB&usg=AOvVaw2u7swzGnYw1h54tD5iqLPZ\n",
            "Found the URL:https://accounts.google.com/ServiceLogin%3Fcontinue%3Dhttps://www.google.com/search%253Fq%253Dpython%26hl%3Den\n",
            "https://www.google.com/preferences?hl=en&fg=1&sa=X&ved=0ahUKEwjRr6S7np3lAhVSeXAKHXwIDT4Q5fUCCLQB\n",
            "Found the URL:ttps://www.google.com/preferences?hl=en&fg=1\n",
            "//policies.google.com/privacy?fg=1\n",
            "//policies.google.com/terms?fg=1\n"
          ],
          "name": "stdout"
        }
      ]
    },
    {
      "cell_type": "code",
      "metadata": {
        "id": "DXatDdItTCev",
        "colab_type": "code",
        "colab": {}
      },
      "source": [
        ""
      ],
      "execution_count": 0,
      "outputs": []
    }
  ]
}