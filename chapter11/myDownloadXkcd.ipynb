{
  "nbformat": 4,
  "nbformat_minor": 0,
  "metadata": {
    "colab": {
      "name": "Untitled5.ipynb",
      "provenance": [],
      "include_colab_link": true
    },
    "kernelspec": {
      "name": "python3",
      "display_name": "Python 3"
    }
  },
  "cells": [
    {
      "cell_type": "markdown",
      "metadata": {
        "id": "view-in-github",
        "colab_type": "text"
      },
      "source": [
        "<a href=\"https://colab.research.google.com/github/j-buss/AutomateTheBoringStuffTutorial/blob/dev-chapter09/chapter11/myDownloadXkcd.ipynb\" target=\"_parent\"><img src=\"https://colab.research.google.com/assets/colab-badge.svg\" alt=\"Open In Colab\"/></a>"
      ]
    },
    {
      "cell_type": "markdown",
      "metadata": {
        "id": "D-wn2ggmkhAi",
        "colab_type": "text"
      },
      "source": [
        "Following the motivation of the \"Automate the Boring Stuff\" book by Al Sweigart. This is my own code to download all the web comics from Xkcd http://xkcd.com. \n",
        "\n",
        "I didn't consult Al's version until mine was working (at least for the first 50 comics)"
      ]
    },
    {
      "cell_type": "code",
      "metadata": {
        "id": "s9KMbG5RcjsE",
        "colab_type": "code",
        "colab": {}
      },
      "source": [
        "#! /usr/bin/python3\n",
        "\n",
        "import requests\n",
        "from bs4 import BeautifulSoup\n",
        "import os"
      ],
      "execution_count": 0,
      "outputs": []
    },
    {
      "cell_type": "code",
      "metadata": {
        "id": "-mgfTa9sczhc",
        "colab_type": "code",
        "colab": {}
      },
      "source": [
        "xkcdBaseURL = \"https://xkcd.com\"\n",
        "headers = requests.utils.default_headers()\n",
        "headers.update({ 'User-Agent': 'Mozilla/5.0 (X11; Ubuntu; Linux x86_64; rv:52.0) Gecko/20100101 Firefox/52.0'})"
      ],
      "execution_count": 0,
      "outputs": []
    },
    {
      "cell_type": "code",
      "metadata": {
        "id": "m3B08_sMY8Aw",
        "colab_type": "code",
        "colab": {}
      },
      "source": [
        "def returnXkcdImageURL(soupObject):\n",
        "  \"\"\"For an Xkcd page; return the link to the image\"\"\"\n",
        "  comicURL = \"http:\" + soupObject.find(\"div\", {\"id\":\"comic\"}).find(\"img\")['src']\n",
        "  return comicURL"
      ],
      "execution_count": 0,
      "outputs": []
    },
    {
      "cell_type": "code",
      "metadata": {
        "id": "Z2dj9NdtZtGd",
        "colab_type": "code",
        "colab": {}
      },
      "source": [
        "def downloadImage(imageURL, headers):\n",
        "  \"\"\"Download and image given the specific URL\"\"\"\n",
        "  req = requests.get(imageURL, headers)\n",
        "  req.raise_for_status()\n",
        "  fileName = os.path.split(imageURL)[1]\n",
        "  with open(fileName, 'wb') as f:\n",
        "    for chunk in req.iter_content(100000):\n",
        "      f.write(chunk)"
      ],
      "execution_count": 0,
      "outputs": []
    },
    {
      "cell_type": "code",
      "metadata": {
        "id": "MhIDuGGQdUto",
        "colab_type": "code",
        "colab": {}
      },
      "source": [
        "def returnPrevURL(soupObject, baseURL):\n",
        "  \"\"\"Return the link to the previous Xkcd comic page\"\"\"\n",
        "  previousLink = soupObject.find(\"div\", {\"id\":\"middleContainer\"}).find(\"a\",{\"rel\":\"prev\"})['href']\n",
        "  previousLink = baseURL + previousLink\n",
        "  return previousLink"
      ],
      "execution_count": 0,
      "outputs": []
    },
    {
      "cell_type": "code",
      "metadata": {
        "id": "6LhJdQT3duIE",
        "colab_type": "code",
        "colab": {}
      },
      "source": [
        "def returnSoup(pageURL, headers):\n",
        "  req = requests.get(pageURL, headers)\n",
        "  req.raise_for_status()\n",
        "  soup = BeautifulSoup(req.text, \"html.parser\")\n",
        "  return soup"
      ],
      "execution_count": 0,
      "outputs": []
    },
    {
      "cell_type": "code",
      "metadata": {
        "id": "UZBJ6XX4h5TF",
        "colab_type": "code",
        "colab": {}
      },
      "source": [
        "def dailyXkcd(url, headers):\n",
        "  \"\"\"Perform the step to find the image url, download it, and return link to \n",
        "  previous page\"\"\"\n",
        "  tempSoup = returnSoup(url, headers)\n",
        "  try:\n",
        "    imageURL = returnXkcdImageURL(tempSoup)\n",
        "    downloadImage(imageURL, headers)\n",
        "  except:\n",
        "    print(\"Couldn't get Image from: \" + url)\n",
        "    pass\n",
        "  prevURL = returnPrevURL(tempSoup, xkcdBaseURL)\n",
        "  return prevURL"
      ],
      "execution_count": 0,
      "outputs": []
    },
    {
      "cell_type": "code",
      "metadata": {
        "id": "1cGru7omcZEB",
        "colab_type": "code",
        "colab": {
          "base_uri": "https://localhost:8080/",
          "height": 34
        },
        "outputId": "997f7064-5d0d-47be-f395-cf20d3faffd2"
      },
      "source": [
        "# Get Xkcd information for current webpage\n",
        "prevURL = dailyXkcd(xkcdBaseURL,headers)\n",
        "count = 0\n",
        "while count < 50:\n",
        "  prevURL = dailyXkcd(prevURL, headers)\n",
        "  count += 1\n"
      ],
      "execution_count": 73,
      "outputs": [
        {
          "output_type": "stream",
          "text": [
            "Couldn't get Image from: https://xkcd.com/2198/\n"
          ],
          "name": "stdout"
        }
      ]
    },
    {
      "cell_type": "code",
      "metadata": {
        "colab_type": "code",
        "id": "biilR-nFdHsS",
        "colab": {}
      },
      "source": [
        ""
      ],
      "execution_count": 0,
      "outputs": []
    }
  ]
}