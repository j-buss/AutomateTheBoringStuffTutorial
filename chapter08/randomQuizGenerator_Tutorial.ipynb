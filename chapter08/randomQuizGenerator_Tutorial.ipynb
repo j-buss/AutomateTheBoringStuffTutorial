{
  "nbformat": 4,
  "nbformat_minor": 0,
  "metadata": {
    "colab": {
      "name": "randomQuizGenerator_Tutorial.ipynb",
      "provenance": [],
      "include_colab_link": true
    },
    "kernelspec": {
      "name": "python3",
      "display_name": "Python 3"
    }
  },
  "cells": [
    {
      "cell_type": "markdown",
      "metadata": {
        "id": "view-in-github",
        "colab_type": "text"
      },
      "source": [
        "<a href=\"https://colab.research.google.com/github/j-buss/AutomateTheBoringStuffTutorial/blob/dev-chapter08/chapter08/randomQuizGenerator_Tutorial.ipynb\" target=\"_parent\"><img src=\"https://colab.research.google.com/assets/colab-badge.svg\" alt=\"Open In Colab\"/></a>"
      ]
    },
    {
      "cell_type": "code",
      "metadata": {
        "id": "TLRB1IGrysMF",
        "colab_type": "code",
        "colab": {}
      },
      "source": [
        "import random"
      ],
      "execution_count": 0,
      "outputs": []
    },
    {
      "cell_type": "code",
      "metadata": {
        "id": "BnlE0UVAy6jH",
        "colab_type": "code",
        "colab": {}
      },
      "source": [
        "# The quiz data. Keys are states and values are their capitals.\n",
        "capitals = {'Alabama': 'Montgomery', 'Alaska': 'Juneau', 'Arizona': 'Phoenix',\n",
        "   'Arkansas': 'Little Rock', 'California': 'Sacramento', 'Colorado': 'Denver',\n",
        "   'Connecticut': 'Hartford', 'Delaware': 'Dover', 'Florida': 'Tallahassee',\n",
        "   'Georgia': 'Atlanta', 'Hawaii': 'Honolulu', 'Idaho': 'Boise', 'Illinois':\n",
        "   'Springfield', 'Indiana': 'Indianapolis', 'Iowa': 'Des Moines', 'Kansas':\n",
        "   'Topeka', 'Kentucky': 'Frankfort', 'Louisiana': 'Baton Rouge', 'Maine':\n",
        "   'Augusta', 'Maryland': 'Annapolis', 'Massachusetts': 'Boston', 'Michigan':\n",
        "   'Lansing', 'Minnesota': 'Saint Paul', 'Mississippi': 'Jackson', 'Missouri':\n",
        "   'Jefferson City', 'Montana': 'Helena', 'Nebraska': 'Lincoln', 'Nevada':\n",
        "   'Carson City', 'New Hampshire': 'Concord', 'New Jersey': 'Trenton',\n",
        "   'New Mexico': 'Santa Fe', 'New York': 'Albany', 'North Carolina': 'Raleigh',\n",
        "   'North Dakota': 'Bismarck', 'Ohio': 'Columbus', 'Oklahoma': 'Oklahoma City',\n",
        "   'Oregon': 'Salem', 'Pennsylvania': 'Harrisburg', 'Rhode Island': 'Providence',\n",
        "   'South Carolina': 'Columbia', 'South Dakota': 'Pierre', 'Tennessee':\n",
        "   'Nashville', 'Texas': 'Austin', 'Utah': 'Salt Lake City', 'Vermont':\n",
        "   'Montpelier', 'Virginia': 'Richmond', 'Washington': 'Olympia',\n",
        "   'West Virginia': 'Charleston', 'Wisconsin': 'Madison', 'Wyoming': 'Cheyenne'}"
      ],
      "execution_count": 0,
      "outputs": []
    },
    {
      "cell_type": "code",
      "metadata": {
        "id": "h7wm5wFWzRfJ",
        "colab_type": "code",
        "colab": {}
      },
      "source": [
        "# The following will return a list of the states (since the states are stored as the keys)\n",
        "states = list(capitals.keys())"
      ],
      "execution_count": 0,
      "outputs": []
    },
    {
      "cell_type": "code",
      "metadata": {
        "id": "4-Koyb7KzgiT",
        "colab_type": "code",
        "outputId": "fcf90748-0d70-4e8c-c731-4f6da28343be",
        "colab": {
          "base_uri": "https://localhost:8080/",
          "height": 34
        }
      },
      "source": [
        "# List the first 5 states\n",
        "states[0:5]"
      ],
      "execution_count": 4,
      "outputs": [
        {
          "output_type": "execute_result",
          "data": {
            "text/plain": [
              "['Alabama', 'Alaska', 'Arizona', 'Arkansas', 'California']"
            ]
          },
          "metadata": {
            "tags": []
          },
          "execution_count": 4
        }
      ]
    },
    {
      "cell_type": "code",
      "metadata": {
        "id": "QY1sLsZe05fA",
        "colab_type": "code",
        "colab": {}
      },
      "source": [
        "# Shuffle the states list\n",
        "random.shuffle(states)"
      ],
      "execution_count": 0,
      "outputs": []
    },
    {
      "cell_type": "code",
      "metadata": {
        "id": "ZGXG85Zg1DYn",
        "colab_type": "code",
        "outputId": "1e7f4c3e-e462-46db-de49-58bcf1d2a308",
        "colab": {
          "base_uri": "https://localhost:8080/",
          "height": 34
        }
      },
      "source": [
        "# List the first 5 states\n",
        "states[0:5]"
      ],
      "execution_count": 6,
      "outputs": [
        {
          "output_type": "execute_result",
          "data": {
            "text/plain": [
              "['Nevada', 'Maryland', 'Montana', 'Louisiana', 'Delaware']"
            ]
          },
          "metadata": {
            "tags": []
          },
          "execution_count": 6
        }
      ]
    },
    {
      "cell_type": "code",
      "metadata": {
        "id": "iL0X0YZy1FwQ",
        "colab_type": "code",
        "outputId": "f187ac10-a5fa-4e0a-8278-153cfa846cf9",
        "colab": {
          "base_uri": "https://localhost:8080/",
          "height": 34
        }
      },
      "source": [
        "# If we call the capitals dictionary with the statename; it will return the capital\n",
        "capitals['Wisconsin']"
      ],
      "execution_count": 7,
      "outputs": [
        {
          "output_type": "execute_result",
          "data": {
            "text/plain": [
              "'Madison'"
            ]
          },
          "metadata": {
            "tags": []
          },
          "execution_count": 7
        }
      ]
    },
    {
      "cell_type": "code",
      "metadata": {
        "id": "jAyJwzqJ1zNR",
        "colab_type": "code",
        "outputId": "fd5d259e-049d-4edd-d526-d2af1d6f9d09",
        "colab": {
          "base_uri": "https://localhost:8080/",
          "height": 34
        }
      },
      "source": [
        "type(states)"
      ],
      "execution_count": 8,
      "outputs": [
        {
          "output_type": "execute_result",
          "data": {
            "text/plain": [
              "list"
            ]
          },
          "metadata": {
            "tags": []
          },
          "execution_count": 8
        }
      ]
    },
    {
      "cell_type": "code",
      "metadata": {
        "id": "eyNUJ7Yk2nuF",
        "colab_type": "code",
        "colab": {
          "base_uri": "https://localhost:8080/",
          "height": 34
        },
        "outputId": "050bba7b-a380-4c8e-af72-456fb8b53f60"
      },
      "source": [
        "type(capitals)"
      ],
      "execution_count": 9,
      "outputs": [
        {
          "output_type": "execute_result",
          "data": {
            "text/plain": [
              "dict"
            ]
          },
          "metadata": {
            "tags": []
          },
          "execution_count": 9
        }
      ]
    },
    {
      "cell_type": "code",
      "metadata": {
        "id": "QoL6fTZP1fN9",
        "colab_type": "code",
        "colab": {}
      },
      "source": [
        "# The correctAnswers can be built by selecting from the capitals list with the correct state name"
      ],
      "execution_count": 0,
      "outputs": []
    },
    {
      "cell_type": "code",
      "metadata": {
        "id": "YVDGyPyf4xN9",
        "colab_type": "code",
        "colab": {}
      },
      "source": [
        ""
      ],
      "execution_count": 0,
      "outputs": []
    },
    {
      "cell_type": "markdown",
      "metadata": {
        "id": "JpmP1NC-6PWt",
        "colab_type": "text"
      },
      "source": [
        "### Loop with questionNum = 0"
      ]
    },
    {
      "cell_type": "code",
      "metadata": {
        "id": "mHsf1oW610K2",
        "colab_type": "code",
        "outputId": "c1275a1e-a894-46c5-9c42-90e09c3c5eb1",
        "colab": {
          "base_uri": "https://localhost:8080/",
          "height": 52
        }
      },
      "source": [
        "# For this explanation we will assume we are on questionNum = 0\n",
        "questionNum = 0\n",
        "print(states[questionNum])\n",
        "print(capitals[states[questionNum]])"
      ],
      "execution_count": 35,
      "outputs": [
        {
          "output_type": "stream",
          "text": [
            "Nevada\n",
            "Carson City\n"
          ],
          "name": "stdout"
        }
      ]
    },
    {
      "cell_type": "code",
      "metadata": {
        "id": "Nk3GlDLX29UK",
        "colab_type": "code",
        "colab": {
          "base_uri": "https://localhost:8080/",
          "height": 34
        },
        "outputId": "683c6d8b-4556-408e-d2d4-dd665f0ae1c4"
      },
      "source": [
        "correctAnswer = capitals[states[questionNum]]\n",
        "print(correctAnswer)"
      ],
      "execution_count": 36,
      "outputs": [
        {
          "output_type": "stream",
          "text": [
            "Carson City\n"
          ],
          "name": "stdout"
        }
      ]
    },
    {
      "cell_type": "code",
      "metadata": {
        "id": "YbLyLTh62Epi",
        "colab_type": "code",
        "colab": {
          "base_uri": "https://localhost:8080/",
          "height": 54
        },
        "outputId": "b03a1713-3ba1-489a-f5e4-b919469fd7b4"
      },
      "source": [
        "# At this point the wrongAnswers contains all the answers - even the right one\n",
        "wrongAnswers = list(capitals.values())\n",
        "print(wrongAnswers)"
      ],
      "execution_count": 37,
      "outputs": [
        {
          "output_type": "stream",
          "text": [
            "['Montgomery', 'Juneau', 'Phoenix', 'Little Rock', 'Sacramento', 'Denver', 'Hartford', 'Dover', 'Tallahassee', 'Atlanta', 'Honolulu', 'Boise', 'Springfield', 'Indianapolis', 'Des Moines', 'Topeka', 'Frankfort', 'Baton Rouge', 'Augusta', 'Annapolis', 'Boston', 'Lansing', 'Saint Paul', 'Jackson', 'Jefferson City', 'Helena', 'Lincoln', 'Carson City', 'Concord', 'Trenton', 'Santa Fe', 'Albany', 'Raleigh', 'Bismarck', 'Columbus', 'Oklahoma City', 'Salem', 'Harrisburg', 'Providence', 'Columbia', 'Pierre', 'Nashville', 'Austin', 'Salt Lake City', 'Montpelier', 'Richmond', 'Olympia', 'Charleston', 'Madison', 'Cheyenne']\n"
          ],
          "name": "stdout"
        }
      ]
    },
    {
      "cell_type": "code",
      "metadata": {
        "id": "gYRctW7t3Fl8",
        "colab_type": "code",
        "colab": {
          "base_uri": "https://localhost:8080/",
          "height": 898
        },
        "outputId": "a80e744f-cd07-4f4b-c663-37eee2362204"
      },
      "source": [
        "# Get the index of the correct Answer\n",
        "print(wrongAnswers.index(correctAnswer))\n",
        "# Delete the correctAnswer from the list of wrongAnswers\n",
        "del wrongAnswers[wrongAnswers.index(correctAnswer)]\n",
        "# now the list is one shorter, basically having removed the correct answer\n",
        "wrongAnswers"
      ],
      "execution_count": 38,
      "outputs": [
        {
          "output_type": "stream",
          "text": [
            "27\n"
          ],
          "name": "stdout"
        },
        {
          "output_type": "execute_result",
          "data": {
            "text/plain": [
              "['Montgomery',\n",
              " 'Juneau',\n",
              " 'Phoenix',\n",
              " 'Little Rock',\n",
              " 'Sacramento',\n",
              " 'Denver',\n",
              " 'Hartford',\n",
              " 'Dover',\n",
              " 'Tallahassee',\n",
              " 'Atlanta',\n",
              " 'Honolulu',\n",
              " 'Boise',\n",
              " 'Springfield',\n",
              " 'Indianapolis',\n",
              " 'Des Moines',\n",
              " 'Topeka',\n",
              " 'Frankfort',\n",
              " 'Baton Rouge',\n",
              " 'Augusta',\n",
              " 'Annapolis',\n",
              " 'Boston',\n",
              " 'Lansing',\n",
              " 'Saint Paul',\n",
              " 'Jackson',\n",
              " 'Jefferson City',\n",
              " 'Helena',\n",
              " 'Lincoln',\n",
              " 'Concord',\n",
              " 'Trenton',\n",
              " 'Santa Fe',\n",
              " 'Albany',\n",
              " 'Raleigh',\n",
              " 'Bismarck',\n",
              " 'Columbus',\n",
              " 'Oklahoma City',\n",
              " 'Salem',\n",
              " 'Harrisburg',\n",
              " 'Providence',\n",
              " 'Columbia',\n",
              " 'Pierre',\n",
              " 'Nashville',\n",
              " 'Austin',\n",
              " 'Salt Lake City',\n",
              " 'Montpelier',\n",
              " 'Richmond',\n",
              " 'Olympia',\n",
              " 'Charleston',\n",
              " 'Madison',\n",
              " 'Cheyenne']"
            ]
          },
          "metadata": {
            "tags": []
          },
          "execution_count": 38
        }
      ]
    },
    {
      "cell_type": "code",
      "metadata": {
        "id": "waf4g6N92NhC",
        "colab_type": "code",
        "colab": {
          "base_uri": "https://localhost:8080/",
          "height": 34
        },
        "outputId": "fc78bdf7-8c80-4d5b-d6ef-810c69e1de90"
      },
      "source": [
        "# Now sample just 3 wrong answers to make up the options for question #0\n",
        "wrongAnswers = random.sample(wrongAnswers, 3)\n",
        "print(wrongAnswers)"
      ],
      "execution_count": 39,
      "outputs": [
        {
          "output_type": "stream",
          "text": [
            "['Salt Lake City', 'Frankfort', 'Honolulu']\n"
          ],
          "name": "stdout"
        }
      ]
    },
    {
      "cell_type": "code",
      "metadata": {
        "id": "3AknMX0M35MG",
        "colab_type": "code",
        "colab": {
          "base_uri": "https://localhost:8080/",
          "height": 52
        },
        "outputId": "bb9cf334-d88f-4c7b-d85c-f0136bb2fda4"
      },
      "source": [
        "# Gather the answerOptions; 3 incorrect, 1 correct\n",
        "answerOptions = wrongAnswers + [correctAnswer]\n",
        "print(answerOptions)\n",
        "\n",
        "# Mix them up\n",
        "random.shuffle(answerOptions)\n",
        "print(answerOptions)"
      ],
      "execution_count": 41,
      "outputs": [
        {
          "output_type": "stream",
          "text": [
            "['Salt Lake City', 'Frankfort', 'Honolulu', 'Carson City']\n",
            "['Salt Lake City', 'Honolulu', 'Frankfort', 'Carson City']\n"
          ],
          "name": "stdout"
        }
      ]
    },
    {
      "cell_type": "code",
      "metadata": {
        "id": "IylTjjjr4c3T",
        "colab_type": "code",
        "colab": {
          "base_uri": "https://localhost:8080/",
          "height": 193
        },
        "outputId": "9fa6c67b-aef8-4c74-bd91-900f96f82165"
      },
      "source": [
        "# Create the question\n",
        "print('%s. What is the capital of %s?\\n' % (questionNum + 1 , states[questionNum]))\n",
        "# Create the answer options\n",
        "for i in range(4):\n",
        "  print(' %s. %s\\n' % ('ABCD'[i], answerOptions[i]))"
      ],
      "execution_count": 42,
      "outputs": [
        {
          "output_type": "stream",
          "text": [
            "1. What is the capital of Nevada?\n",
            "\n",
            " A. Salt Lake City\n",
            "\n",
            " B. Honolulu\n",
            "\n",
            " C. Frankfort\n",
            "\n",
            " D. Carson City\n",
            "\n"
          ],
          "name": "stdout"
        }
      ]
    },
    {
      "cell_type": "code",
      "metadata": {
        "id": "Cr-y2ItI5XYP",
        "colab_type": "code",
        "colab": {
          "base_uri": "https://localhost:8080/",
          "height": 52
        },
        "outputId": "7d53e6a9-6fd8-4e22-e720-9d285b9f8241"
      },
      "source": [
        "# Create the answer key\n",
        "print('%s. %s\\n' % (questionNum + 1, 'ABCD'[answerOptions.index(correctAnswer)]))"
      ],
      "execution_count": 43,
      "outputs": [
        {
          "output_type": "stream",
          "text": [
            "1. D\n",
            "\n"
          ],
          "name": "stdout"
        }
      ]
    },
    {
      "cell_type": "markdown",
      "metadata": {
        "id": "9MRj30MY6AmE",
        "colab_type": "text"
      },
      "source": [
        "## Loop for questionNum = 1\n",
        "\n"
      ]
    },
    {
      "cell_type": "code",
      "metadata": {
        "id": "W7wkT7H-6MNk",
        "colab_type": "code",
        "colab": {
          "base_uri": "https://localhost:8080/",
          "height": 52
        },
        "outputId": "74bff7fb-3d5d-4ecc-a59a-49df5c1dd250"
      },
      "source": [
        "# For this explanation we will assume we are on questionNum = 0\n",
        "questionNum = 1\n",
        "print(states[questionNum])\n",
        "print(capitals[states[questionNum]])"
      ],
      "execution_count": 44,
      "outputs": [
        {
          "output_type": "stream",
          "text": [
            "Maryland\n",
            "Annapolis\n"
          ],
          "name": "stdout"
        }
      ]
    },
    {
      "cell_type": "code",
      "metadata": {
        "id": "l4I2w-QG7QAQ",
        "colab_type": "code",
        "colab": {
          "base_uri": "https://localhost:8080/",
          "height": 34
        },
        "outputId": "bc3b6601-f4a8-4cf1-b636-192a2d924344"
      },
      "source": [
        "correctAnswer = capitals[states[questionNum]]\n",
        "print(correctAnswer)"
      ],
      "execution_count": 45,
      "outputs": [
        {
          "output_type": "stream",
          "text": [
            "Annapolis\n"
          ],
          "name": "stdout"
        }
      ]
    },
    {
      "cell_type": "code",
      "metadata": {
        "id": "vz7hsTtR7Tqv",
        "colab_type": "code",
        "colab": {
          "base_uri": "https://localhost:8080/",
          "height": 54
        },
        "outputId": "63842def-ce7e-4417-a2bc-a5fa4ef66fe5"
      },
      "source": [
        "# At this point the wrongAnswers contains all the answers - even the right one\n",
        "wrongAnswers = list(capitals.values())\n",
        "print(wrongAnswers)"
      ],
      "execution_count": 46,
      "outputs": [
        {
          "output_type": "stream",
          "text": [
            "['Montgomery', 'Juneau', 'Phoenix', 'Little Rock', 'Sacramento', 'Denver', 'Hartford', 'Dover', 'Tallahassee', 'Atlanta', 'Honolulu', 'Boise', 'Springfield', 'Indianapolis', 'Des Moines', 'Topeka', 'Frankfort', 'Baton Rouge', 'Augusta', 'Annapolis', 'Boston', 'Lansing', 'Saint Paul', 'Jackson', 'Jefferson City', 'Helena', 'Lincoln', 'Carson City', 'Concord', 'Trenton', 'Santa Fe', 'Albany', 'Raleigh', 'Bismarck', 'Columbus', 'Oklahoma City', 'Salem', 'Harrisburg', 'Providence', 'Columbia', 'Pierre', 'Nashville', 'Austin', 'Salt Lake City', 'Montpelier', 'Richmond', 'Olympia', 'Charleston', 'Madison', 'Cheyenne']\n"
          ],
          "name": "stdout"
        }
      ]
    },
    {
      "cell_type": "code",
      "metadata": {
        "id": "j14S_0rP7X1z",
        "colab_type": "code",
        "colab": {
          "base_uri": "https://localhost:8080/",
          "height": 898
        },
        "outputId": "647d80db-eaeb-4de5-a6bb-63ab1f8aaed7"
      },
      "source": [
        "# Get the index of the correct Answer\n",
        "print(wrongAnswers.index(correctAnswer))\n",
        "# Delete the correctAnswer from the list of wrongAnswers\n",
        "del wrongAnswers[wrongAnswers.index(correctAnswer)]\n",
        "# now the list is one shorter, basically having removed the correct answer\n",
        "wrongAnswers"
      ],
      "execution_count": 47,
      "outputs": [
        {
          "output_type": "stream",
          "text": [
            "19\n"
          ],
          "name": "stdout"
        },
        {
          "output_type": "execute_result",
          "data": {
            "text/plain": [
              "['Montgomery',\n",
              " 'Juneau',\n",
              " 'Phoenix',\n",
              " 'Little Rock',\n",
              " 'Sacramento',\n",
              " 'Denver',\n",
              " 'Hartford',\n",
              " 'Dover',\n",
              " 'Tallahassee',\n",
              " 'Atlanta',\n",
              " 'Honolulu',\n",
              " 'Boise',\n",
              " 'Springfield',\n",
              " 'Indianapolis',\n",
              " 'Des Moines',\n",
              " 'Topeka',\n",
              " 'Frankfort',\n",
              " 'Baton Rouge',\n",
              " 'Augusta',\n",
              " 'Boston',\n",
              " 'Lansing',\n",
              " 'Saint Paul',\n",
              " 'Jackson',\n",
              " 'Jefferson City',\n",
              " 'Helena',\n",
              " 'Lincoln',\n",
              " 'Carson City',\n",
              " 'Concord',\n",
              " 'Trenton',\n",
              " 'Santa Fe',\n",
              " 'Albany',\n",
              " 'Raleigh',\n",
              " 'Bismarck',\n",
              " 'Columbus',\n",
              " 'Oklahoma City',\n",
              " 'Salem',\n",
              " 'Harrisburg',\n",
              " 'Providence',\n",
              " 'Columbia',\n",
              " 'Pierre',\n",
              " 'Nashville',\n",
              " 'Austin',\n",
              " 'Salt Lake City',\n",
              " 'Montpelier',\n",
              " 'Richmond',\n",
              " 'Olympia',\n",
              " 'Charleston',\n",
              " 'Madison',\n",
              " 'Cheyenne']"
            ]
          },
          "metadata": {
            "tags": []
          },
          "execution_count": 47
        }
      ]
    },
    {
      "cell_type": "code",
      "metadata": {
        "id": "fOScP3j47evr",
        "colab_type": "code",
        "colab": {
          "base_uri": "https://localhost:8080/",
          "height": 34
        },
        "outputId": "ffe47372-41c8-4aa3-aa87-b572b9a79b9a"
      },
      "source": [
        "# Now sample just 3 wrong answers to make up the options for question #0\n",
        "wrongAnswers = random.sample(wrongAnswers, 3)\n",
        "print(wrongAnswers)"
      ],
      "execution_count": 48,
      "outputs": [
        {
          "output_type": "stream",
          "text": [
            "['Little Rock', 'Des Moines', 'Madison']\n"
          ],
          "name": "stdout"
        }
      ]
    },
    {
      "cell_type": "code",
      "metadata": {
        "id": "zRWcFF7d7joQ",
        "colab_type": "code",
        "colab": {
          "base_uri": "https://localhost:8080/",
          "height": 52
        },
        "outputId": "42c4451d-870b-4fda-b34d-ac72927fa49d"
      },
      "source": [
        "# Gather the answerOptions; 3 incorrect, 1 correct\n",
        "answerOptions = wrongAnswers + [correctAnswer]\n",
        "print(answerOptions)\n",
        "\n",
        "# Mix them up\n",
        "random.shuffle(answerOptions)\n",
        "print(answerOptions)"
      ],
      "execution_count": 49,
      "outputs": [
        {
          "output_type": "stream",
          "text": [
            "['Little Rock', 'Des Moines', 'Madison', 'Annapolis']\n",
            "['Des Moines', 'Annapolis', 'Madison', 'Little Rock']\n"
          ],
          "name": "stdout"
        }
      ]
    },
    {
      "cell_type": "code",
      "metadata": {
        "id": "FqNmLsxJ7nVn",
        "colab_type": "code",
        "colab": {
          "base_uri": "https://localhost:8080/",
          "height": 193
        },
        "outputId": "c1aeb992-d7a7-4a8e-ff65-5058614ba5eb"
      },
      "source": [
        "# Create the question\n",
        "print('%s. What is the capital of %s?\\n' % (questionNum + 1 , states[questionNum]))\n",
        "# Create the answer options\n",
        "for i in range(4):\n",
        "  print(' %s. %s\\n' % ('ABCD'[i], answerOptions[i]))"
      ],
      "execution_count": 50,
      "outputs": [
        {
          "output_type": "stream",
          "text": [
            "2. What is the capital of Maryland?\n",
            "\n",
            " A. Des Moines\n",
            "\n",
            " B. Annapolis\n",
            "\n",
            " C. Madison\n",
            "\n",
            " D. Little Rock\n",
            "\n"
          ],
          "name": "stdout"
        }
      ]
    },
    {
      "cell_type": "code",
      "metadata": {
        "id": "9jn7HTDt7rYu",
        "colab_type": "code",
        "colab": {
          "base_uri": "https://localhost:8080/",
          "height": 52
        },
        "outputId": "6a47959f-dc2e-44ad-ab7a-e840893d5d0c"
      },
      "source": [
        "# Create the answer key\n",
        "print('%s. %s\\n' % (questionNum + 1, 'ABCD'[answerOptions.index(correctAnswer)]))"
      ],
      "execution_count": 51,
      "outputs": [
        {
          "output_type": "stream",
          "text": [
            "2. B\n",
            "\n"
          ],
          "name": "stdout"
        }
      ]
    },
    {
      "cell_type": "code",
      "metadata": {
        "id": "Qd6aAbt87ubR",
        "colab_type": "code",
        "colab": {}
      },
      "source": [
        ""
      ],
      "execution_count": 0,
      "outputs": []
    }
  ]
}